{
 "cells": [
  {
   "cell_type": "code",
   "execution_count": 7,
   "metadata": {},
   "outputs": [
    {
     "name": "stdout",
     "output_type": "stream",
     "text": [
      "[['sunny', 'warm', 'normal', 'strong', 'warm', 'same', 'yes'], ['sunny', 'warm', 'high', 'strong', 'warm', 'same', 'yes'], ['rainy', 'cold', 'high', 'strong', 'warm', 'change', 'no'], ['sunny', 'warm', 'high', 'strong', 'cool', 'change', 'yes']]\n",
      "\n",
      "Total instances= 4\n",
      "The initial hypothesis h0 is:\n",
      " ['0', '0', '0', '0', '0', '0']\n",
      "Instance 1 is ['sunny', 'warm', 'normal', 'strong', 'warm', 'same', 'yes'] and is a positive instance\n",
      "The hypothesis for training instance 1 is ['sunny', 'warm', 'normal', 'strong', 'warm', 'same'] \n",
      "\n",
      "Instance 2 is ['sunny', 'warm', 'high', 'strong', 'warm', 'same', 'yes'] and is a positive instance\n",
      "The hypothesis for training instance 2 is ['sunny', 'warm', '?', 'strong', 'warm', 'same'] \n",
      "\n",
      "Instance 3 is ['rainy', 'cold', 'high', 'strong', 'warm', 'change', 'no'] and is a negative instance and therefore ignored\n",
      "The hypothesis for training instance 3 is ['sunny', 'warm', '?', 'strong', 'warm', 'same'] \n",
      "\n",
      "Instance 4 is ['sunny', 'warm', 'high', 'strong', 'cool', 'change', 'yes'] and is a positive instance\n",
      "The hypothesis for training instance 4 is ['sunny', 'warm', '?', 'strong', '?', '?'] \n",
      "\n",
      "The final hypothesis is ['sunny', 'warm', '?', 'strong', '?', '?']\n"
     ]
    }
   ],
   "source": [
    "import csv\n",
    "a=[]\n",
    "with open('C:/Users/bmsce/Desktop/enjoysport.csv', 'r') as csvfile:\n",
    "    next(csvfile)\n",
    "    for row in csv.reader(csvfile):\n",
    "        a.append(row)\n",
    "    print(a)\n",
    "    \n",
    "print('\\nTotal instances=',len(a))\n",
    "\n",
    "num_attributes=len(a[0])-1\n",
    "\n",
    "hypothesis=['0']*num_attributes\n",
    "print('The initial hypothesis h0 is:\\n',hypothesis)\n",
    "\n",
    "for i in range(0,len(a)):\n",
    "    if a[i][num_attributes]=='yes':\n",
    "        print('Instance',(i+1),'is',a[i],'and is a positive instance')\n",
    "        for j in range(0,num_attributes):\n",
    "            if hypothesis[j]=='0' or hypothesis[j]==a[i][j]:\n",
    "                hypothesis[j]=a[i][j]\n",
    "            else:\n",
    "                hypothesis[j]='?'\n",
    "        print('The hypothesis for training instance',(i+1),'is',hypothesis,'\\n')\n",
    "    if a[i][num_attributes]=='no':\n",
    "        print('Instance',(i+1),'is',a[i],'and is a negative instance and therefore ignored')\n",
    "        print('The hypothesis for training instance',(i+1),'is',hypothesis,'\\n')\n",
    "        \n",
    "print('The final hypothesis is', hypothesis)\n",
    "    "
   ]
  },
  {
   "cell_type": "code",
   "execution_count": null,
   "metadata": {},
   "outputs": [],
   "source": []
  }
 ],
 "metadata": {
  "kernelspec": {
   "display_name": "Python 3",
   "language": "python",
   "name": "python3"
  },
  "language_info": {
   "codemirror_mode": {
    "name": "ipython",
    "version": 3
   },
   "file_extension": ".py",
   "mimetype": "text/x-python",
   "name": "python",
   "nbconvert_exporter": "python",
   "pygments_lexer": "ipython3",
   "version": "3.7.3"
  }
 },
 "nbformat": 4,
 "nbformat_minor": 2
}
