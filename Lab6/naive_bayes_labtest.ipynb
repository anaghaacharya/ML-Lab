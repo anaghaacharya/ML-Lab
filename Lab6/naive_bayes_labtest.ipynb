{
 "cells": [
  {
   "cell_type": "code",
   "execution_count": 4,
   "metadata": {
    "colab": {
     "base_uri": "https://localhost:8080/"
    },
    "executionInfo": {
     "elapsed": 1580,
     "status": "ok",
     "timestamp": 1654318642588,
     "user": {
      "displayName": "Vasanth Kumar T",
      "userId": "12150419966091441514"
     },
     "user_tz": -330
    },
    "id": "a0QTC0a55eI5",
    "outputId": "0e6e14df-9730-4b06-e73a-42bfc5dec7e8"
   },
   "outputs": [],
   "source": [
    "import pandas as pd\n",
    "from sklearn.model_selection import train_test_split\n",
    "from sklearn.naive_bayes import GaussianNB\n",
    "from sklearn import metrics\n",
    "\n",
    "df = pd.read_csv(r'C:\\Users\\admin\\Desktop\\Bird.csv')\n"
   ]
  },
  {
   "cell_type": "code",
   "execution_count": 5,
   "metadata": {},
   "outputs": [
    {
     "data": {
      "text/plain": [
       "array([[1, 3, 0],\n",
       "       [0, 2, 1],\n",
       "       [0, 3, 0],\n",
       "       [1, 3, 0],\n",
       "       [0, 2, 0],\n",
       "       [1, 2, 1],\n",
       "       [1, 2, 1],\n",
       "       [1, 2, 0]], dtype=object)"
      ]
     },
     "execution_count": 5,
     "metadata": {},
     "output_type": "execute_result"
    }
   ],
   "source": [
    "feature_col_names = ['Color','Legs','Height']\n",
    "predicted_class_names = ['Species']\n",
    "\n",
    "X = df[feature_col_names].values # these are factors for the prediction\n",
    "y = df[predicted_class_names].values # this is what we want to predict\n",
    "\n",
    "from sklearn.preprocessing import LabelEncoder\n",
    "le = LabelEncoder()\n",
    "X[:,0] = le.fit_transform(X[:,0])\n",
    "X[:,2] = le.fit_transform(X[:,2])\n",
    "#splitting the dataset into train and test data\n",
    "X"
   ]
  },
  {
   "cell_type": "code",
   "execution_count": 14,
   "metadata": {},
   "outputs": [
    {
     "name": "stdout",
     "output_type": "stream",
     "text": [
      "<bound method NDFrame.head of    Color  Legs Height Species\n",
      "0  White     3  Short       M\n",
      "1  Green     2   Tall       M\n",
      "2  Green     3  Short       M\n",
      "3  White     3  Short       M\n",
      "4  Green     2  Short       H\n",
      "5  White     2   Tall       H\n",
      "6  White     2   Tall       H\n",
      "7  White     2  Short       H>\n",
      "\n",
      " the total number of Training Data : (5, 1)\n",
      "\n",
      " the total number of Test Data : (3, 1)\n",
      "\n",
      " Confusion matrix\n",
      "[[1 0]\n",
      " [1 1]]\n",
      "\n",
      " Accuracy of the classifier is 0.6666666666666666\n",
      "Predicted Value for individual Test Data: ['M']\n"
     ]
    }
   ],
   "source": [
    "print(df.head)\n",
    "xtrain,xtest,ytrain,ytest=train_test_split(X,y,test_size=0.33)\n",
    "\n",
    "print ('\\n the total number of Training Data :',ytrain.shape)\n",
    "print ('\\n the total number of Test Data :',ytest.shape)\n",
    "\n",
    "\n",
    "# Training Naive Bayes (NB) classifier on training data.\n",
    "\n",
    "clf = GaussianNB().fit(xtrain,ytrain.ravel())\n",
    "predicted = clf.predict(xtest)\n",
    "predictTestData= clf.predict([[1,3,1]])\n",
    "\n",
    "#printing Confusion matrix, accuracy, Precision and Recall\n",
    "\n",
    "print('\\n Confusion matrix')\n",
    "print(metrics.confusion_matrix(ytest,predicted))\n",
    "\n",
    "print('\\n Accuracy of the classifier is',metrics.accuracy_score(ytest,predicted))\n",
    "\n",
    "\n",
    "print(\"Predicted Value for individual Test Data:\", predictTestData)"
   ]
  },
  {
   "cell_type": "code",
   "execution_count": null,
   "metadata": {},
   "outputs": [],
   "source": []
  }
 ],
 "metadata": {
  "colab": {
   "authorship_tag": "ABX9TyNK8cf36b/Y1KpXsp9DeNn6",
   "name": "Untitled9.ipynb",
   "provenance": []
  },
  "kernelspec": {
   "display_name": "Python 3 (ipykernel)",
   "language": "python",
   "name": "python3"
  },
  "language_info": {
   "codemirror_mode": {
    "name": "ipython",
    "version": 3
   },
   "file_extension": ".py",
   "mimetype": "text/x-python",
   "name": "python",
   "nbconvert_exporter": "python",
   "pygments_lexer": "ipython3",
   "version": "3.9.7"
  }
 },
 "nbformat": 4,
 "nbformat_minor": 1
}
